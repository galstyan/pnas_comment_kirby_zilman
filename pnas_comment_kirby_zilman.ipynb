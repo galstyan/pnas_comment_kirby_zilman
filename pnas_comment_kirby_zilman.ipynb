{
 "cells": [
  {
   "cell_type": "code",
   "execution_count": 7,
   "id": "1c7babfa",
   "metadata": {},
   "outputs": [],
   "source": [
    "import numpy as np\n",
    "import matplotlib.pyplot as plt\n",
    "\n",
    "import numba\n",
    "from tqdm.notebook import tqdm"
   ]
  },
  {
   "cell_type": "markdown",
   "id": "ddadd0ef",
   "metadata": {},
   "source": [
    "**Parameters**"
   ]
  },
  {
   "cell_type": "code",
   "execution_count": 8,
   "id": "78c7f671",
   "metadata": {},
   "outputs": [],
   "source": [
    "kp = 1\n",
    "konc = 1\n",
    "kf = 1\n",
    "t_fixed = 100\n",
    "koff1 = 3.0\n",
    "koff2 = 1.5\n",
    "\n",
    "color1 = [0.528, 0.470, 0.701]\n",
    "color2 = [0.560, 0.692, 0.195]\n",
    "\n",
    "dt = 0.01\n",
    "n_steps = int(t_fixed/dt)\n",
    "\n",
    "N = 0\n",
    "n_max = 300\n",
    "\n",
    "# Start at an empty enzyme state\n",
    "init_option = 0\n",
    "\n",
    "# True: fixed time setup\n",
    "# False: fixed activity setup\n",
    "fixed_time = False"
   ]
  },
  {
   "cell_type": "code",
   "execution_count": 9,
   "id": "53026997",
   "metadata": {},
   "outputs": [],
   "source": [
    "@numba.njit\n",
    "def evolve(N, n_max, n_steps, konc, dt, koff, kf, kp, init_option = 0):\n",
    "    \n",
    "    # Probability matrix\n",
    "    P_mat = np.zeros((N+2, n_max))\n",
    "    \n",
    "    # -------------- Initialization -------------- #\n",
    "    if init_option == 0: # Empty enzyme state at t=0\n",
    "        P_mat[0, 0] = 1\n",
    "    \n",
    "    if init_option == 1: # Steady-state enzyme states\n",
    "        g = koff/kf\n",
    "        x = konc/koff\n",
    "        \n",
    "        P_mat[0, 0] = 1/(1+x)\n",
    "        \n",
    "        for i in range(1, N+1):\n",
    "            P_mat[i, 0] = x/(1+x) * g/(1+g)**i\n",
    "\n",
    "        P_mat[N+1, 0] = x/(1+x) / (1+g)**N\n",
    "        \n",
    "        \n",
    "    # -------------- Iterations -------------- #\n",
    "    for it in range(n_steps):\n",
    "\n",
    "        P_mat_next = P_mat.copy()\n",
    "\n",
    "        for n in range(n_max):    \n",
    "\n",
    "            P_mat_next[0, n] = P_mat[0,n] - konc * P_mat[0, n] * dt + koff * P_mat[1:, n].sum() * dt\n",
    "            \n",
    "            if N > 0:\n",
    "                P_mat_next[1, n] = P_mat[1,n] + konc * P_mat[0, n] * dt - (kf + koff) * P_mat[1, n] * dt\n",
    "\n",
    "                for i in range(2, N+1):\n",
    "                    P_mat_next[i, n] = P_mat[i, n] + kf * P_mat[i-1, n] * dt - (kf + koff) * P_mat[i, n] * dt\n",
    "\n",
    "                if n == 0:\n",
    "                    P_mat_next[N+1, n] = P_mat[N+1, n] + kf * P_mat[N, n] * dt - koff * P_mat[N+1, n] * dt \\\n",
    "                                         + kp * (- P_mat[N+1, n] * dt)\n",
    "                else:\n",
    "                    P_mat_next[N+1, n] = P_mat[N+1, n] + kf * P_mat[N, n] * dt - koff * P_mat[N+1, n] * dt \\\n",
    "                                         + kp * (P_mat[N+1, n-1] - P_mat[N+1, n]) * dt\n",
    "            else:\n",
    "                if n == 0:\n",
    "                    P_mat_next[1, n] = P_mat[1, n] + konc * P_mat[0, n] * dt - koff * P_mat[1, n] * dt \\\n",
    "                                       + kp * (- P_mat[1, n] * dt)\n",
    "                else:\n",
    "                    P_mat_next[1, n] = P_mat[1, n] + konc * P_mat[0, n] * dt - koff * P_mat[1, n] * dt \\\n",
    "                                       + kp * (P_mat[1, n-1] - P_mat[1, n]) * dt\n",
    "\n",
    "        P_mat = P_mat_next.copy()\n",
    "        \n",
    "    return P_mat"
   ]
  },
  {
   "cell_type": "code",
   "execution_count": 10,
   "id": "3e68d119",
   "metadata": {},
   "outputs": [],
   "source": [
    "@numba.njit\n",
    "def give_thresh_probs(probs):\n",
    "    \n",
    "    thresh_probs = np.zeros(len(probs)-1)\n",
    "    \n",
    "    for i in range(len(probs)-1):\n",
    "        thresh_probs[i] = np.sum(probs[i+1:])\n",
    "        \n",
    "    return thresh_probs"
   ]
  },
  {
   "cell_type": "markdown",
   "id": "aba19393",
   "metadata": {},
   "source": [
    "**ROC curves**"
   ]
  },
  {
   "cell_type": "code",
   "execution_count": 11,
   "id": "ee3b6e30",
   "metadata": {},
   "outputs": [
    {
     "data": {
      "application/vnd.jupyter.widget-view+json": {
       "model_id": "c5fdca892fdb4a2fbf7d60d44fc242a7",
       "version_major": 2,
       "version_minor": 0
      },
      "text/plain": [
       "  0%|          | 0/5 [00:00<?, ?it/s]"
      ]
     },
     "metadata": {},
     "output_type": "display_data"
    },
    {
     "data": {
      "image/png": "[encoded data removed]",
      "text/plain": [
       "<Figure size 288x216 with 1 Axes>"
      ]
     },
     "metadata": {
      "needs_background": "light"
     },
     "output_type": "display_data"
    }
   ],
   "source": [
    "plt.figure(figsize = (4, 3.0))\n",
    "\n",
    "for N in tqdm(range(0, 5)):\n",
    "    \n",
    "    if fixed_time:\n",
    "        n_steps = int(t_fixed/dt)\n",
    "    else:\n",
    "        t_tuned = t_fixed * (1 + koff2/kf)**N\n",
    "        n_steps = int(t_tuned/dt)\n",
    "    \n",
    "    P_mat_1 = evolve(N, n_max, n_steps, konc, dt, koff1, kf, kp, init_option = init_option)\n",
    "    P_mat_2 = evolve(N, n_max, n_steps, konc, dt, koff2, kf, kp, init_option = init_option)\n",
    "    \n",
    "    P_arr_1 = np.sum(P_mat_1, axis = 0)\n",
    "    P_arr_2 = np.sum(P_mat_2, axis = 0)\n",
    "    \n",
    "    P_false_arr = give_thresh_probs(P_arr_1)\n",
    "    P_true_arr = give_thresh_probs(P_arr_2)\n",
    "    \n",
    "    if N == 0:\n",
    "        ls = '--'\n",
    "        alpha = 1\n",
    "    else:\n",
    "        ls = '-'\n",
    "        alpha = 1 - N/5\n",
    "        \n",
    "    plt.plot(P_false_arr, P_true_arr, color = 'k', lw = 1.50, \\\n",
    "             ls = ls, alpha = alpha, label = 'N = %d'%N)\n",
    "    \n",
    "    \n",
    "plt.legend(fontsize = 11)\n",
    "\n",
    "plt.xscale('log')\n",
    "\n",
    "if fixed_time:\n",
    "    plt.xlim([10**-8.2, 10**0.2])\n",
    "    plt.xticks([10**-8, 10**-6, 10**-4, 10**-2, 10**0])\n",
    "else:\n",
    "    plt.xlim([10**-8.2, 10**0.2])\n",
    "    plt.xticks([10**-8, 10**-6, 10**-4, 10**-2, 10**0])\n",
    "\n",
    "plt.xticks(fontsize = 11.5)\n",
    "plt.yticks(fontsize = 11.5)\n",
    "\n",
    "plt.xlabel('P (false activation)', fontsize = 14)\n",
    "plt.ylabel('P (true activation)', fontsize = 14)\n",
    "\n",
    "plt.show()"
   ]
  },
  {
   "cell_type": "markdown",
   "id": "66c33309",
   "metadata": {},
   "source": [
    "**Distributions of signaling molecule counts**"
   ]
  },
  {
   "cell_type": "code",
   "execution_count": 12,
   "id": "7d384c8e",
   "metadata": {},
   "outputs": [
    {
     "data": {
      "application/vnd.jupyter.widget-view+json": {
       "model_id": "83f25edbe26f40eab0af3d2f0a9420a3",
       "version_major": 2,
       "version_minor": 0
      },
      "text/plain": [
       "  0%|          | 0/4 [00:00<?, ?it/s]"
      ]
     },
     "metadata": {},
     "output_type": "display_data"
    },
    {
     "data": {
      "image/png": "[encoded data removed]",
      "text/plain": [
       "<Figure size 864x144 with 4 Axes>"
      ]
     },
     "metadata": {
      "needs_background": "light"
     },
     "output_type": "display_data"
    }
   ],
   "source": [
    "fig, ax = plt.subplots(1, 4, figsize = (12, 2.0))\n",
    "\n",
    "xlims_fixed = [75, 50, 30, 15, 10]\n",
    "xlims_tuned = 75\n",
    "\n",
    "xticks_fixed = [[0, 25, 50, 75],\n",
    "                [0, 25, 50], \\\n",
    "                [0, 10, 20, 30], \\\n",
    "                [0, 5, 10, 15], \\\n",
    "                [0, 5, 10]]\n",
    "xticks_tuned = [0, 25, 50, 75]\n",
    "\n",
    "yticks_fixed = [[0, 0.15],\n",
    "                [0, 0.2],\n",
    "                [0, 0.4],\n",
    "                [0, 1.0],\n",
    "                [0, 1.0]]\n",
    "\n",
    "\n",
    "for N in tqdm(range(0, 4)):\n",
    "    \n",
    "    if fixed_time:\n",
    "        n_steps = int(t_fixed/dt)\n",
    "    else:\n",
    "        t_tuned = t_fixed * (1 + koff2/kf)**N\n",
    "        n_steps = int(t_tuned/dt)\n",
    "    \n",
    "    P_mat_1 = evolve(N, n_max, n_steps, konc, dt, koff1, kf, kp, init_option = init_option)\n",
    "    P_mat_2 = evolve(N, n_max, n_steps, konc, dt, koff2, kf, kp, init_option = init_option)\n",
    "    \n",
    "    P_arr_1 = np.sum(P_mat_1, axis = 0)\n",
    "    P_arr_2 = np.sum(P_mat_2, axis = 0)\n",
    "    \n",
    "    ax[N].fill_between(np.arange(n_max), P_arr_1, [0]*n_max, color = color1, alpha = 0.15, lw = 0)\n",
    "    ax[N].fill_between(np.arange(n_max), P_arr_2, [0]*n_max, color = color2, alpha = 0.15, lw = 0)\n",
    "    \n",
    "    ax[N].plot(np.arange(n_max), P_arr_1, color = 'k', lw = 0.7)\n",
    "    ax[N].plot(np.arange(n_max), P_arr_2, color = 'k', lw = 0.7)\n",
    "    \n",
    "    ax[N].scatter(np.arange(n_max), P_arr_1, color = 'k', s = 1)\n",
    "    ax[N].scatter(np.arange(n_max), P_arr_2, color = 'k', s = 1)\n",
    "    \n",
    "    if fixed_time:\n",
    "        ax[N].set_yticks(yticks_fixed[N])\n",
    "    else:\n",
    "        ax[N].set_yticks([0, 0.15])\n",
    "    \n",
    "    \n",
    "    if fixed_time:\n",
    "        x_upper = xlims_fixed[N]\n",
    "        ax[N].set_xticks(xticks_fixed[N])\n",
    "    else:\n",
    "        x_upper = xlims_tuned\n",
    "        ax[N].set_xticks(xticks_tuned)\n",
    "        \n",
    "        \n",
    "    ax[N].set_xlim([-0.15*x_upper, 1.1*x_upper])\n",
    "    \n",
    "    ax[N].tick_params(labelsize = 10)\n",
    "    \n",
    "\n",
    "plt.subplots_adjust(wspace = 0.25)\n",
    "plt.show()"
   ]
  }
 ],
 "metadata": {
  "kernelspec": {
   "display_name": "Python 3 (ipykernel)",
   "language": "python",
   "name": "python3"
  },
  "language_info": {
   "codemirror_mode": {
    "name": "ipython",
    "version": 3
   },
   "file_extension": ".py",
   "mimetype": "text/x-python",
   "name": "python",
   "nbconvert_exporter": "python",
   "pygments_lexer": "ipython3",
   "version": "3.8.12"
  }
 },
 "nbformat": 4,
 "nbformat_minor": 5
}
